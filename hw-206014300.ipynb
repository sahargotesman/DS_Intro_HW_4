{
 "cells": [
  {
   "cell_type": "code",
   "execution_count": 8,
   "id": "bc526983",
   "metadata": {},
   "outputs": [
    {
     "name": "stdout",
     "output_type": "stream",
     "text": [
      "{'Istanbul': ('1,809 km', '20 hours and 42 mins', 28.9783589, 41.0082376), 'Amsterdam': ('4,528 km', '47 hours and 33 mins', 4.9041389, 52.3675734), 'Valletta': ('3,783 km', '50 hours and 29 mins', 14.5145528, 35.8989085), 'Basel': ('4,091 km', '43 hours and 43 mins', 7.5885761, 47.5595986), 'Doha': ('2,104 km', '21 hours and 51 mins', 51.53103979999999, 25.2854473)}\n"
     ]
    }
   ],
   "source": [
    "import json\n",
    "import requests\n",
    "\n",
    "\n",
    "API = 'AIzaSyDbwm_______'#insert your own API  \n",
    "origin = \"Jerusalem\"   \n",
    "cities ={}           \n",
    "\n",
    "def con_sec_hou(seconds): \n",
    "    hours=int(seconds/(60*60))\n",
    "    minutes=seconds%(60*60)/60\n",
    "    return str(hours) +\" hours and \"+ str(round(minutes))+ \" mins\"\n",
    "\n",
    "with open('/Users/il016140/Documents/OneDrive - Ariel University/Year 3/semester b/introw- Data sience/myNotebooks/dests.txt') as file:\n",
    "\n",
    "    for line in file:\n",
    "        address=line.rstrip()\n",
    "        urlDistance = \"https://maps.googleapis.com/maps/api/distancematrix/json?origins=%s&destinations=%s&departure_time=now&key=%s\" % (origin,address,API)\n",
    "        urlGeocode=\"https://maps.googleapis.com/maps/api/geocode/json?address=%s&key=%s\" % (address,API)\n",
    "        try:\n",
    "            responseDistance =requests.get(urlDistance)\n",
    "            responseGeocode = requests.get(urlGeocode)  \n",
    "            if not responseDistance.status_code == 200 or not responseGeocode.status_code == 200:\n",
    "                print(\"HTTP error\")\n",
    "            else:\n",
    "                try:\n",
    "                    #geocode\n",
    "                    responseGeocode=responseGeocode.json()\n",
    "                    lat_lng=responseGeocode['results'][0]['geometry']['location']\n",
    "                    lat=lat_lng[\"lat\"]\n",
    "                    lng=lat_lng[\"lng\"]\n",
    "                    #distance\n",
    "                    responseDistance=responseDistance.json()\n",
    "                    distance = responseDistance['rows'][0]['elements'][0]['distance']['text']\n",
    "                    duration=con_sec_hou(responseDistance['rows'][0]['elements'][0]['duration']['value'])\n",
    "                \n",
    "                    \n",
    "                    cities[address]=(distance,duration,lng,lat)\n",
    "\n",
    "                except:\n",
    "                    print(\"Response not in valid JSON format\")\n",
    "        except:\n",
    "            print(\"requests.get went wrong\")\n",
    "print(cities)"
   ]
  },
  {
   "cell_type": "code",
   "execution_count": 9,
   "id": "703d13de",
   "metadata": {},
   "outputs": [
    {
     "name": "stdout",
     "output_type": "stream",
     "text": [
      "city Jerusalem Distanse  Dauration   Longitude   Latitude\n",
      "Istanbul\n",
      "('1,809 km', '20 hours and 42 mins', 28.9783589, 41.0082376)\n",
      "Amsterdam\n",
      "('4,528 km', '47 hours and 33 mins', 4.9041389, 52.3675734)\n",
      "Valletta\n",
      "('3,783 km', '50 hours and 29 mins', 14.5145528, 35.8989085)\n",
      "Basel\n",
      "('4,091 km', '43 hours and 43 mins', 7.5885761, 47.5595986)\n",
      "Doha\n",
      "('2,104 km', '21 hours and 51 mins', 51.53103979999999, 25.2854473)\n"
     ]
    }
   ],
   "source": [
    "print('city','Jerusalem Distanse',' Dauration','  Longitude','  Latitude' ) #print the information clearly\n",
    "for keys,values in cities.items():\n",
    "    print(keys)\n",
    "    print(values)"
   ]
  },
  {
   "cell_type": "code",
   "execution_count": 10,
   "id": "dc062d58",
   "metadata": {},
   "outputs": [
    {
     "name": "stdout",
     "output_type": "stream",
     "text": [
      "['Amsterdam', 'Basel', 'Valletta']\n"
     ]
    }
   ],
   "source": [
    "print(sorted(cities,key=lambda k: cities[k][0],reverse=True)[0:3]) #the furthest cities from jerusalem"
   ]
  },
  {
   "cell_type": "code",
   "execution_count": null,
   "id": "3dd9d937",
   "metadata": {},
   "outputs": [],
   "source": []
  }
 ],
 "metadata": {
  "kernelspec": {
   "display_name": "Python 3 (ipykernel)",
   "language": "python",
   "name": "python3"
  },
  "language_info": {
   "codemirror_mode": {
    "name": "ipython",
    "version": 3
   },
   "file_extension": ".py",
   "mimetype": "text/x-python",
   "name": "python",
   "nbconvert_exporter": "python",
   "pygments_lexer": "ipython3",
   "version": "3.9.7"
  }
 },
 "nbformat": 4,
 "nbformat_minor": 5
}
